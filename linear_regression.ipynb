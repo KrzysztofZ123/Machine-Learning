{
 "cells": [
  {
   "cell_type": "markdown",
   "id": "1d5d0207-64df-43f9-9d86-5c7903e510a1",
   "metadata": {},
   "source": [
    "# Machile Learning using linear regression"
   ]
  },
  {
   "cell_type": "markdown",
   "id": "fd8b8699-df97-47d5-9529-af14a200be77",
   "metadata": {},
   "source": [
    "Objective of this program is to predict mpg of a car based on information about its: weight, number of cylinders, horsepower etc."
   ]
  },
  {
   "cell_type": "markdown",
   "id": "4aab0768-b0b4-4ecf-87c6-7bfb7726836b",
   "metadata": {},
   "source": [
    "## 1) Imports"
   ]
  },
  {
   "cell_type": "code",
   "execution_count": 16,
   "id": "d7d196e7-00f6-4859-bfb7-6734dade36bc",
   "metadata": {},
   "outputs": [],
   "source": [
    "import pandas as pd\n",
    "from sklearn.model_selection import train_test_split\n",
    "from sklearn import linear_model\n",
    "from sklearn import preprocessing\n",
    "import numpy as np\n",
    "from sklearn.metrics import mean_absolute_error ,mean_squared_error, mean_squared_log_error"
   ]
  },
  {
   "cell_type": "markdown",
   "id": "ad2958f6-1778-485f-a26d-2d7ed01c9180",
   "metadata": {},
   "source": [
    "## 2) Creating list with column names (csv file doesn't have column names)"
   ]
  },
  {
   "cell_type": "code",
   "execution_count": 2,
   "id": "907578f7-1033-47b5-8809-53a138d9fc0a",
   "metadata": {},
   "outputs": [],
   "source": [
    "col_names = ['mpg', 'cylinders', 'displacement', 'horsepower', 'weight', 'acceleration', 'model year', 'origin', 'car name']"
   ]
  },
  {
   "cell_type": "markdown",
   "id": "c1b12d1f-eb67-41eb-a12e-36941cd916ff",
   "metadata": {},
   "source": [
    "## 3) Reading csv file"
   ]
  },
  {
   "cell_type": "code",
   "execution_count": 3,
   "id": "1c6ea5c0-3f23-4ef9-bf0b-7b7de75b2f8b",
   "metadata": {},
   "outputs": [
    {
     "data": {
      "text/html": [
       "<div>\n",
       "<style scoped>\n",
       "    .dataframe tbody tr th:only-of-type {\n",
       "        vertical-align: middle;\n",
       "    }\n",
       "\n",
       "    .dataframe tbody tr th {\n",
       "        vertical-align: top;\n",
       "    }\n",
       "\n",
       "    .dataframe thead th {\n",
       "        text-align: right;\n",
       "    }\n",
       "</style>\n",
       "<table border=\"1\" class=\"dataframe\">\n",
       "  <thead>\n",
       "    <tr style=\"text-align: right;\">\n",
       "      <th></th>\n",
       "      <th>mpg</th>\n",
       "      <th>cylinders</th>\n",
       "      <th>displacement</th>\n",
       "      <th>horsepower</th>\n",
       "      <th>weight</th>\n",
       "      <th>acceleration</th>\n",
       "      <th>model year</th>\n",
       "      <th>origin</th>\n",
       "      <th>car name</th>\n",
       "    </tr>\n",
       "  </thead>\n",
       "  <tbody>\n",
       "    <tr>\n",
       "      <th>0</th>\n",
       "      <td>18.0</td>\n",
       "      <td>8</td>\n",
       "      <td>307.0</td>\n",
       "      <td>130.0</td>\n",
       "      <td>3504.0</td>\n",
       "      <td>12.0</td>\n",
       "      <td>70</td>\n",
       "      <td>1</td>\n",
       "      <td>chevrolet chevelle malibu</td>\n",
       "    </tr>\n",
       "    <tr>\n",
       "      <th>1</th>\n",
       "      <td>15.0</td>\n",
       "      <td>8</td>\n",
       "      <td>350.0</td>\n",
       "      <td>165.0</td>\n",
       "      <td>3693.0</td>\n",
       "      <td>11.5</td>\n",
       "      <td>70</td>\n",
       "      <td>1</td>\n",
       "      <td>buick skylark 320</td>\n",
       "    </tr>\n",
       "    <tr>\n",
       "      <th>2</th>\n",
       "      <td>18.0</td>\n",
       "      <td>8</td>\n",
       "      <td>318.0</td>\n",
       "      <td>150.0</td>\n",
       "      <td>3436.0</td>\n",
       "      <td>11.0</td>\n",
       "      <td>70</td>\n",
       "      <td>1</td>\n",
       "      <td>plymouth satellite</td>\n",
       "    </tr>\n",
       "    <tr>\n",
       "      <th>3</th>\n",
       "      <td>16.0</td>\n",
       "      <td>8</td>\n",
       "      <td>304.0</td>\n",
       "      <td>150.0</td>\n",
       "      <td>3433.0</td>\n",
       "      <td>12.0</td>\n",
       "      <td>70</td>\n",
       "      <td>1</td>\n",
       "      <td>amc rebel sst</td>\n",
       "    </tr>\n",
       "    <tr>\n",
       "      <th>4</th>\n",
       "      <td>17.0</td>\n",
       "      <td>8</td>\n",
       "      <td>302.0</td>\n",
       "      <td>140.0</td>\n",
       "      <td>3449.0</td>\n",
       "      <td>10.5</td>\n",
       "      <td>70</td>\n",
       "      <td>1</td>\n",
       "      <td>ford torino</td>\n",
       "    </tr>\n",
       "    <tr>\n",
       "      <th>5</th>\n",
       "      <td>15.0</td>\n",
       "      <td>8</td>\n",
       "      <td>429.0</td>\n",
       "      <td>198.0</td>\n",
       "      <td>4341.0</td>\n",
       "      <td>10.0</td>\n",
       "      <td>70</td>\n",
       "      <td>1</td>\n",
       "      <td>ford galaxie 500</td>\n",
       "    </tr>\n",
       "    <tr>\n",
       "      <th>6</th>\n",
       "      <td>14.0</td>\n",
       "      <td>8</td>\n",
       "      <td>454.0</td>\n",
       "      <td>220.0</td>\n",
       "      <td>4354.0</td>\n",
       "      <td>9.0</td>\n",
       "      <td>70</td>\n",
       "      <td>1</td>\n",
       "      <td>chevrolet impala</td>\n",
       "    </tr>\n",
       "    <tr>\n",
       "      <th>7</th>\n",
       "      <td>14.0</td>\n",
       "      <td>8</td>\n",
       "      <td>440.0</td>\n",
       "      <td>215.0</td>\n",
       "      <td>4312.0</td>\n",
       "      <td>8.5</td>\n",
       "      <td>70</td>\n",
       "      <td>1</td>\n",
       "      <td>plymouth fury iii</td>\n",
       "    </tr>\n",
       "    <tr>\n",
       "      <th>8</th>\n",
       "      <td>14.0</td>\n",
       "      <td>8</td>\n",
       "      <td>455.0</td>\n",
       "      <td>225.0</td>\n",
       "      <td>4425.0</td>\n",
       "      <td>10.0</td>\n",
       "      <td>70</td>\n",
       "      <td>1</td>\n",
       "      <td>pontiac catalina</td>\n",
       "    </tr>\n",
       "    <tr>\n",
       "      <th>9</th>\n",
       "      <td>15.0</td>\n",
       "      <td>8</td>\n",
       "      <td>390.0</td>\n",
       "      <td>190.0</td>\n",
       "      <td>3850.0</td>\n",
       "      <td>8.5</td>\n",
       "      <td>70</td>\n",
       "      <td>1</td>\n",
       "      <td>amc ambassador dpl</td>\n",
       "    </tr>\n",
       "  </tbody>\n",
       "</table>\n",
       "</div>"
      ],
      "text/plain": [
       "    mpg  cylinders  displacement horsepower  weight  acceleration  model year  \\\n",
       "0  18.0          8         307.0      130.0  3504.0          12.0          70   \n",
       "1  15.0          8         350.0      165.0  3693.0          11.5          70   \n",
       "2  18.0          8         318.0      150.0  3436.0          11.0          70   \n",
       "3  16.0          8         304.0      150.0  3433.0          12.0          70   \n",
       "4  17.0          8         302.0      140.0  3449.0          10.5          70   \n",
       "5  15.0          8         429.0      198.0  4341.0          10.0          70   \n",
       "6  14.0          8         454.0      220.0  4354.0           9.0          70   \n",
       "7  14.0          8         440.0      215.0  4312.0           8.5          70   \n",
       "8  14.0          8         455.0      225.0  4425.0          10.0          70   \n",
       "9  15.0          8         390.0      190.0  3850.0           8.5          70   \n",
       "\n",
       "   origin                   car name  \n",
       "0       1  chevrolet chevelle malibu  \n",
       "1       1          buick skylark 320  \n",
       "2       1         plymouth satellite  \n",
       "3       1              amc rebel sst  \n",
       "4       1                ford torino  \n",
       "5       1           ford galaxie 500  \n",
       "6       1           chevrolet impala  \n",
       "7       1          plymouth fury iii  \n",
       "8       1           pontiac catalina  \n",
       "9       1         amc ambassador dpl  "
      ]
     },
     "execution_count": 3,
     "metadata": {},
     "output_type": "execute_result"
    }
   ],
   "source": [
    "df_cars = pd.read_csv('auto-mpg.data', header=None, names = col_names, delim_whitespace=True)\n",
    "df_cars.head(10)"
   ]
  },
  {
   "cell_type": "markdown",
   "id": "e9a86f3e-d5df-4cd3-8e84-12a10f784b10",
   "metadata": {},
   "source": [
    "## 4) Handling missing data by deleting rows with missing values"
   ]
  },
  {
   "cell_type": "code",
   "execution_count": 4,
   "id": "5710cb0f-6568-4808-a496-60848b7fbc29",
   "metadata": {},
   "outputs": [],
   "source": [
    "# replacing '?' value with NaN\n",
    "df_cars = df_cars.replace('?', np.nan)\n",
    "# deleting rows with NaN values\n",
    "df_cars= df_cars.dropna()"
   ]
  },
  {
   "cell_type": "markdown",
   "id": "4b711408-551e-4454-a78a-6de2218b822c",
   "metadata": {},
   "source": [
    "## 5) Separating class values (labels) from other attributes. \n",
    "Spliting the data to create train and test dataframes (70%:30% split); normalization"
   ]
  },
  {
   "cell_type": "code",
   "execution_count": 5,
   "id": "1453c7fd-3c08-4e76-be3c-d72da11ced00",
   "metadata": {},
   "outputs": [],
   "source": [
    "X = df_cars.drop(['mpg', 'car name'], axis=1)\n",
    "y = df_cars['mpg']"
   ]
  },
  {
   "cell_type": "code",
   "execution_count": 6,
   "id": "867eeb4b-a3ae-4426-b33e-64236a67b530",
   "metadata": {},
   "outputs": [],
   "source": [
    "X = preprocessing.normalize(X, norm='l1')"
   ]
  },
  {
   "cell_type": "code",
   "execution_count": 7,
   "id": "8fbf2e4f-ad0a-49b5-8720-4a4cf90e3d1d",
   "metadata": {},
   "outputs": [],
   "source": [
    "X_train, X_test, y_train, y_test = train_test_split(X, y, test_size=0.30)"
   ]
  },
  {
   "cell_type": "markdown",
   "id": "1e9348e5-4fa0-49fd-96a1-f9af52ff288e",
   "metadata": {},
   "source": [
    "## 6) Creating model and training"
   ]
  },
  {
   "cell_type": "code",
   "execution_count": 8,
   "id": "b52e01db-25e4-4b89-964a-25be7487af5b",
   "metadata": {},
   "outputs": [
    {
     "data": {
      "text/plain": [
       "LinearRegression()"
      ]
     },
     "execution_count": 8,
     "metadata": {},
     "output_type": "execute_result"
    }
   ],
   "source": [
    "# fitting model\n",
    "model = linear_model.LinearRegression()\n",
    "model.fit(X_train, y_train)"
   ]
  },
  {
   "cell_type": "markdown",
   "id": "d10881e4-c997-4999-a1c8-6d42e96b3f5a",
   "metadata": {},
   "source": [
    "## 7) Model evaluation"
   ]
  },
  {
   "cell_type": "code",
   "execution_count": 9,
   "id": "616322ca-9856-4b00-ab39-af1d7f214490",
   "metadata": {},
   "outputs": [],
   "source": [
    "# prediction based on X_test\n",
    "y_pred = model.predict(X_test)"
   ]
  },
  {
   "cell_type": "code",
   "execution_count": 20,
   "id": "b6402119-3a87-4d77-8942-6083e865c924",
   "metadata": {},
   "outputs": [
    {
     "name": "stdout",
     "output_type": "stream",
     "text": [
      "MAE: 2.5432997881355925\n",
      "MSE: 12.538185662738346\n",
      "MSLE: 0.018793035808176206\n"
     ]
    }
   ],
   "source": [
    "# evaluating model\n",
    "print('MAE: ' + str(mean_absolute_error(y_test, y_pred)))\n",
    "print('MSE: ' + str(mean_squared_error(y_test, y_pred)))\n",
    "print('MSLE: ' + str(mean_squared_log_error(y_test, y_pred)))"
   ]
  }
 ],
 "metadata": {
  "kernelspec": {
   "display_name": "Python 3 (ipykernel)",
   "language": "python",
   "name": "python3"
  },
  "language_info": {
   "codemirror_mode": {
    "name": "ipython",
    "version": 3
   },
   "file_extension": ".py",
   "mimetype": "text/x-python",
   "name": "python",
   "nbconvert_exporter": "python",
   "pygments_lexer": "ipython3",
   "version": "3.9.12"
  }
 },
 "nbformat": 4,
 "nbformat_minor": 5
}
